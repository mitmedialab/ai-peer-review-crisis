{
 "cells": [
  {
   "cell_type": "code",
   "execution_count": null,
   "metadata": {},
   "outputs": [],
   "source": [
    "import pandas as pd\n",
    "\n",
    "models = [\"a\", \"g\", \"l\", \"o\"]\n",
    "dfs = {}\n",
    "\n",
    "for model in models:\n",
    "    dfs[model] = pd.read_csv(f\"main_{model}.csv\")\n",
    "\n",
    "merged_df = dfs[models[0]].copy()\n",
    "\n",
    "existing_columns = set(merged_df.columns)\n",
    "\n",
    "for model in models[1:]:\n",
    "    new_columns = [col for col in dfs[model].columns if col != 'id' and col not in existing_columns]\n",
    "    \n",
    "    if new_columns:\n",
    "        df_to_merge = dfs[model][['id'] + new_columns]\n",
    "        merged_df = pd.merge(\n",
    "            merged_df,\n",
    "            df_to_merge,\n",
    "            on='id',\n",
    "            how='outer'\n",
    "        )\n",
    "        existing_columns.update(new_columns)\n"
   ]
  },
  {
   "cell_type": "code",
   "execution_count": null,
   "metadata": {},
   "outputs": [],
   "source": [
    "merged_df.to_csv(\"results/main.csv\", index=False)"
   ]
  },
  {
   "cell_type": "code",
   "execution_count": null,
   "metadata": {},
   "outputs": [
    {
     "name": "stdout",
     "output_type": "stream",
     "text": [
      "['id', 'file', 'name', 'journal', 'authors', 'affiliations', 'len-original', 'len-anond', 'rank', 'anthropic-ins0-score-1', 'anthropic-ins1-score-1', 'anthropic-ins2-score-1', 'anthropic-ins3-score-1', 'anthropic-ins4-score-1', 'anthropic-ins5-score-1', 'anthropic-top0-score-1', 'anthropic-top1-score-1', 'anthropic-top2-score-1', 'anthropic-top3-score-1', 'anthropic-top4-score-1', 'anthropic-top5-score-1', 'anthropic-top6-score-1', 'anthropic-top7-score-1', 'anthropic-top8-score-1', 'anthropic-top9-score-1', 'anthropic-ran0-score-1', 'anthropic-ran1-score-1', 'anthropic-ran2-score-1', 'anthropic-ran3-score-1', 'anthropic-ran4-score-1', 'anthropic-ran5-score-1', 'anthropic-ran6-score-1', 'anthropic-ran7-score-1', 'anthropic-ran8-score-1', 'anthropic-ran9-score-1', 'Unnamed: 0.3', 'Unnamed: 0.2', 'Unnamed: 0.1', 'Unnamed: 0', 'gemma-ins4-score-1', 'gemma-ins1-score-1', 'gemma-ran1-score-1', 'gemma-top7-score-1', 'gemma-ran3-score-1', 'gemma-top0-score-1', 'gemma-ins2-score-1', 'gemma-ins3-score-1', 'gemma-ins0-score-1', 'gemma-ran2-score-1', 'gemma-top1-score-1', 'gemma-top2-score-1', 'gemma-top5-score-1', 'gemma-top4-score-1', 'gemma-top9-score-1', 'gemma-ran0-score-1', 'gemma-top8-score-1', 'gemma-ran4-score-1', 'gemma-ran5-score-1', 'gemma-ran6-score-1', 'gemma-ran7-score-1', 'gemma-top6-score-1', 'gemma-ins5-score-1', 'gemma-top3-score-1', 'gemma-ran9-score-1', 'gemma-ran8-score-1', 'llama-ins4-score-1', 'llama-ins2-score-1', 'llama-top4-score-1', 'llama-top8-score-1', 'llama-ran0-score-1', 'llama-ins0-score-1', 'llama-ran7-score-1', 'llama-ins5-score-1', 'llama-ins1-score-1', 'llama-ran2-score-1', 'llama-top9-score-1', 'llama-top3-score-1', 'llama-top2-score-1', 'llama-top1-score-1', 'llama-ran4-score-1', 'llama-top5-score-1', 'llama-top7-score-1', 'llama-ran9-score-1', 'llama-top6-score-1', 'llama-top0-score-1', 'llama-ins3-score-1', 'llama-ran5-score-1', 'llama-ran1-score-1', 'llama-ran6-score-1', 'llama-ran3-score-1', 'llama-ran8-score-1', 'openai-ins0-score-1', 'openai-ins1-score-1', 'openai-ins2-score-1', 'openai-ins3-score-1', 'openai-ins4-score-1', 'openai-ins5-score-1', 'openai-top0-score-1', 'openai-top1-score-1', 'openai-top2-score-1', 'openai-top3-score-1', 'openai-top4-score-1', 'openai-top5-score-1', 'openai-top6-score-1', 'openai-top7-score-1', 'openai-top8-score-1', 'openai-top9-score-1', 'openai-ran0-score-1', 'openai-ran1-score-1', 'openai-ran2-score-1', 'openai-ran3-score-1', 'openai-ran4-score-1', 'openai-ran5-score-1', 'openai-ran6-score-1', 'openai-ran7-score-1', 'openai-ran8-score-1', 'openai-ran9-score-1']\n"
     ]
    }
   ],
   "source": [
    "df = pd.read_csv(\"results/main.csv\")\n",
    "\n",
    "from tabulate import tabulate\n",
    "\n",
    "print(df.columns.to_list())\n",
    "# print(tabulate(df, headers='keys', tablefmt='psql'))"
   ]
  }
 ],
 "metadata": {
  "kernelspec": {
   "display_name": ".venv",
   "language": "python",
   "name": "python3"
  },
  "language_info": {
   "codemirror_mode": {
    "name": "ipython",
    "version": 3
   },
   "file_extension": ".py",
   "mimetype": "text/x-python",
   "name": "python",
   "nbconvert_exporter": "python",
   "pygments_lexer": "ipython3",
   "version": "3.13.1"
  }
 },
 "nbformat": 4,
 "nbformat_minor": 2
}
