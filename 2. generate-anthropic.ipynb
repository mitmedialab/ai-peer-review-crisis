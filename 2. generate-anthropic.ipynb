{
 "cells": [
  {
   "cell_type": "code",
   "execution_count": 2,
   "metadata": {},
   "outputs": [],
   "source": [
    "import anthropic\n",
    "from anthropic.types.message_create_params import MessageCreateParamsNonStreaming\n",
    "from anthropic.types.messages.batch_create_params import Request\n",
    "\n",
    "import json\n",
    "import math\n",
    "import pandas as pd\n",
    "\n",
    "import functions.prompts as prompts\n",
    "\n",
    "client = anthropic.Anthropic()"
   ]
  },
  {
   "cell_type": "code",
   "execution_count": 3,
   "metadata": {},
   "outputs": [],
   "source": [
    "def req(id, field):\n",
    "    return Request(\n",
    "        custom_id=id,\n",
    "        params=MessageCreateParamsNonStreaming(\n",
    "            model=\"claude-3-7-sonnet-20250219\",\n",
    "            thinking={\n",
    "                \"type\": \"enabled\",\n",
    "                \"budget_tokens\": 32000\n",
    "            },\n",
    "            max_tokens=64000,\n",
    "            messages=[{\n",
    "                \"role\": \"user\",\n",
    "                \"content\": f\"Generate {field} paper that could be published in a top-5 economics journal.\"\n",
    "            }]\n",
    "        )\n",
    "    )\n",
    "    \n",
    "def batch():\n",
    "    fields = ['a finance', 'a macroeconomics', 'a microeconimics', 'an applied microeconomics']\n",
    "    reqs =  [ [req(f\"{field.split(\" \")[1][:3]}_{i}\", field) for i in range(5)] for field in fields]\n",
    "    return [ x for xs in reqs for x in xs ]"
   ]
  },
  {
   "cell_type": "code",
   "execution_count": null,
   "metadata": {},
   "outputs": [],
   "source": [
    "batch = client.messages.batches.create(requests=batch())\n",
    "print(batch)"
   ]
  },
  {
   "cell_type": "code",
   "execution_count": 17,
   "metadata": {},
   "outputs": [],
   "source": [
    "# send one request\n",
    "x = client.messages.batches.create(requests=[req(\"test\", \"a macroeconomics\")])"
   ]
  },
  {
   "cell_type": "code",
   "execution_count": 19,
   "metadata": {},
   "outputs": [
    {
     "data": {
      "text/plain": [
       "MessageBatch(id='msgbatch_01Gv77kcHCMePdYdwdBbiXJj', archived_at=None, cancel_initiated_at=None, created_at=datetime.datetime(2025, 3, 25, 10, 21, 2, 667975, tzinfo=datetime.timezone.utc), ended_at=None, expires_at=datetime.datetime(2025, 3, 26, 10, 21, 2, 667975, tzinfo=datetime.timezone.utc), processing_status='in_progress', request_counts=MessageBatchRequestCounts(canceled=0, errored=0, expired=0, processing=1, succeeded=0), results_url=None, type='message_batch')"
      ]
     },
     "execution_count": 19,
     "metadata": {},
     "output_type": "execute_result"
    }
   ],
   "source": [
    "x"
   ]
  },
  {
   "cell_type": "code",
   "execution_count": 5,
   "metadata": {},
   "outputs": [
    {
     "name": "stdout",
     "output_type": "stream",
     "text": [
      "MessageBatchRequestCounts(canceled=0, errored=0, expired=0, processing=1, succeeded=0)\n"
     ]
    },
    {
     "ename": "KeyboardInterrupt",
     "evalue": "",
     "output_type": "error",
     "traceback": [
      "\u001b[0;31m---------------------------------------------------------------------------\u001b[0m",
      "\u001b[0;31mKeyboardInterrupt\u001b[0m                         Traceback (most recent call last)",
      "Cell \u001b[0;32mIn[5], line 12\u001b[0m\n\u001b[1;32m      9\u001b[0m         results \u001b[38;5;241m=\u001b[39m stat\u001b[38;5;241m.\u001b[39mprocessing_status\n\u001b[1;32m     10\u001b[0m         time\u001b[38;5;241m.\u001b[39msleep(\u001b[38;5;241m5\u001b[39m)\n\u001b[0;32m---> 12\u001b[0m \u001b[43mwait\u001b[49m\u001b[43m(\u001b[49m\u001b[38;5;28;43mid\u001b[39;49m\u001b[43m)\u001b[49m\n",
      "Cell \u001b[0;32mIn[5], line 10\u001b[0m, in \u001b[0;36mwait\u001b[0;34m(id)\u001b[0m\n\u001b[1;32m      8\u001b[0m \u001b[38;5;28mprint\u001b[39m(stat\u001b[38;5;241m.\u001b[39mrequest_counts)\n\u001b[1;32m      9\u001b[0m results \u001b[38;5;241m=\u001b[39m stat\u001b[38;5;241m.\u001b[39mprocessing_status\n\u001b[0;32m---> 10\u001b[0m \u001b[43mtime\u001b[49m\u001b[38;5;241;43m.\u001b[39;49m\u001b[43msleep\u001b[49m\u001b[43m(\u001b[49m\u001b[38;5;241;43m5\u001b[39;49m\u001b[43m)\u001b[49m\n",
      "\u001b[0;31mKeyboardInterrupt\u001b[0m: "
     ]
    }
   ],
   "source": [
    "import time\n",
    "\n",
    "id = \"msgbatch_01Gv77kcHCMePdYdwdBbiXJj\"\n",
    "def wait(id):\n",
    "    results = client.messages.batches.retrieve(id).processing_status\n",
    "    while results == \"in_progress\":\n",
    "        stat = client.messages.batches.retrieve(id)\n",
    "        print(stat.request_counts)\n",
    "        results = stat.processing_status\n",
    "        time.sleep(5)\n",
    "\n",
    "wait(id)"
   ]
  },
  {
   "cell_type": "code",
   "execution_count": 18,
   "metadata": {},
   "outputs": [],
   "source": [
    "batches = []\n",
    "with open(\"dump/anthropic-batches.txt\", 'r') as f:\n",
    "    batches = f.read()\n",
    "    batches = batches.split(\"\\n\")"
   ]
  },
  {
   "cell_type": "code",
   "execution_count": 24,
   "metadata": {},
   "outputs": [],
   "source": [
    "def parse_r(r):\n",
    "    id = r.custom_id\n",
    "    validateModel = prompts.Top5Model if \"top5\" in id else prompts.AnalysisModel\n",
    "    try:\n",
    "        text = r.result.message.content[0].text\n",
    "        text = \"{\" + text.split(\"}\")[0] + \"}\"\n",
    "        return {\n",
    "            \"id\": id,\n",
    "            \"scores\": validateModel.model_validate(json.loads(text)).model_dump()\n",
    "        }\n",
    "    except Exception as e:\n",
    "        print(f\"Error {e} - {\"{\" + r.result.message.content[0].text}\")\n",
    "        return {\n",
    "            \"id\": id,\n",
    "            \"scores\": None\n",
    "        }\n",
    "\n",
    "for b in batches:\n",
    "    results = client.messages.batches.results(b)\n",
    "    for r in results:\n",
    "        if(r and r.result.type == 'succeeded'):\n",
    "            try:\n",
    "                with open('eval-output/anthropic-result.jsonl', 'a') as f:\n",
    "                    f.write(json.dumps(parse_r(r)) + \"\\n\")\n",
    "            except Exception as e:\n",
    "                print(\"ERROR! - \" + str(e))"
   ]
  },
  {
   "cell_type": "code",
   "execution_count": 25,
   "metadata": {},
   "outputs": [],
   "source": [
    "import pandas as pd\n",
    "\n",
    "df = pd.read_csv(\"papers.csv\")\n",
    "\n",
    "f = open('eval-output/anthropic-result.jsonl', 'r')\n",
    "file_response = f.read()\n",
    "f.close()\n",
    "\n",
    "for line in file_response.split(\"\\n\")[:-1]:\n",
    "    l = json.loads(line)\n",
    "    id = l['id'].split(\"Z\")[0]\n",
    "    no, typ = l['id'].split(\"Z\")[1].split(\"Q\")\n",
    "    \n",
    "    idx = df.index[df['id'] == id].tolist()[0]\n",
    "    \n",
    "    # content = l['response']['body']['choices'][0]['message']['content']\n",
    "    \n",
    "    metrics = ['score'] if typ == \"top5\" else ['originality', 'rigor', 'scope', 'impact', 'written_by_ai']\n",
    "    validateModel = prompts.Top5Model if typ == \"top5\" else prompts.AnalysisModel\n",
    "\n",
    "    for i, metric in enumerate(metrics):\n",
    "        column_name = f\"anthropic-{metric}-{int(no)+1}\"\n",
    "        \n",
    "        if column_name not in df.columns:\n",
    "            df[column_name] = None\n",
    "\n",
    "        o = validateModel.model_validate(l['scores'])\n",
    "        df.loc[idx, column_name] = o.__dict__[metric]"
   ]
  },
  {
   "cell_type": "code",
   "execution_count": 32,
   "metadata": {},
   "outputs": [],
   "source": [
    "df.to_csv(\"result_a.csv\", index=False)"
   ]
  }
 ],
 "metadata": {
  "kernelspec": {
   "display_name": ".venv",
   "language": "python",
   "name": "python3"
  },
  "language_info": {
   "codemirror_mode": {
    "name": "ipython",
    "version": 3
   },
   "file_extension": ".py",
   "mimetype": "text/x-python",
   "name": "python",
   "nbconvert_exporter": "python",
   "pygments_lexer": "ipython3",
   "version": "3.13.1"
  }
 },
 "nbformat": 4,
 "nbformat_minor": 2
}
