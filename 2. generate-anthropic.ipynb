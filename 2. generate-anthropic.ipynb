{
 "cells": [
  {
   "cell_type": "code",
   "execution_count": null,
   "metadata": {},
   "outputs": [],
   "source": [
    "import anthropic\n",
    "from anthropic.types.message_create_params import MessageCreateParamsNonStreaming\n",
    "from anthropic.types.messages.batch_create_params import Request\n",
    "\n",
    "client = anthropic.Anthropic()"
   ]
  },
  {
   "cell_type": "code",
   "execution_count": null,
   "metadata": {},
   "outputs": [],
   "source": [
    "def req(id, field):\n",
    "    return Request(\n",
    "        custom_id=id,\n",
    "        params=MessageCreateParamsNonStreaming(\n",
    "            model=\"claude-3-7-sonnet-20250219\",\n",
    "            thinking={\n",
    "                \"type\": \"enabled\",\n",
    "                \"budget_tokens\": 32000\n",
    "            },\n",
    "            max_tokens=64000,\n",
    "            messages=[{\n",
    "                \"role\": \"user\",\n",
    "                \"content\": f\"Generate {field} paper that could be published in a top-5 economics journal.\"\n",
    "            }]\n",
    "        )\n",
    "    )\n",
    "    \n",
    "def batch():\n",
    "    fields = ['a finance', 'a macroeconomics', 'a microeconimics', 'an applied microeconomics']\n",
    "    reqs =  [ [req(f\"{field.split(\" \")[1][:3]}_{i}\", field) for i in range(5)] for field in fields]\n",
    "    return [ x for xs in reqs for x in xs ]"
   ]
  },
  {
   "cell_type": "code",
   "execution_count": null,
   "metadata": {},
   "outputs": [],
   "source": [
    "batch = client.messages.batches.create(requests=batch())\n",
    "print(batch)"
   ]
  },
  {
   "cell_type": "code",
   "execution_count": null,
   "metadata": {},
   "outputs": [],
   "source": [
    "# # send one request\n",
    "# x = client.messages.batches.create(requests=[\n",
    "#     req(\"test\", \"a finance\"),\n",
    "# ])"
   ]
  },
  {
   "cell_type": "code",
   "execution_count": null,
   "metadata": {},
   "outputs": [],
   "source": [
    "import time\n",
    "\n",
    "id = \"\"\n",
    "def wait(id):\n",
    "    results = client.messages.batches.retrieve(id).processing_status\n",
    "    while results == \"in_progress\":\n",
    "        stat = client.messages.batches.retrieve(id)\n",
    "        print(stat.request_counts)\n",
    "        results = stat.processing_status\n",
    "        time.sleep(5)\n",
    "\n",
    "wait(id)"
   ]
  },
  {
   "cell_type": "code",
   "execution_count": null,
   "metadata": {},
   "outputs": [],
   "source": [
    "batches = []\n",
    "with open(\"./dump/anthropic-batches.txt\", 'r') as f:\n",
    "    batches = f.read()\n",
    "    batches = batches.split(\"\\n\")"
   ]
  },
  {
   "cell_type": "code",
   "execution_count": null,
   "metadata": {},
   "outputs": [],
   "source": [
    "x = client.messages.batches.results(\"\")\n",
    "for r in x:\n",
    "    with open(f'./fake-papers/claude-{r.custom_id}.txt', 'w') as f:\n",
    "        f.write(r.result.message.content[1].text)\n",
    "    # print()"
   ]
  }
 ],
 "metadata": {
  "kernelspec": {
   "display_name": ".venv",
   "language": "python",
   "name": "python3"
  },
  "language_info": {
   "codemirror_mode": {
    "name": "ipython",
    "version": 3
   },
   "file_extension": ".py",
   "mimetype": "text/x-python",
   "name": "python",
   "nbconvert_exporter": "python",
   "pygments_lexer": "ipython3",
   "version": "3.13.1"
  }
 },
 "nbformat": 4,
 "nbformat_minor": 2
}
