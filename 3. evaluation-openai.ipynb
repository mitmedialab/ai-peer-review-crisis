{
 "cells": [
  {
   "cell_type": "code",
   "execution_count": null,
   "metadata": {},
   "outputs": [],
   "source": [
    "import openai\n",
    "import json\n",
    "import math\n",
    "from openai.lib._parsing._completions import type_to_response_format_param\n",
    "import pandas as pd\n",
    "\n",
    "import functions.prompts as prompts\n",
    "\n",
    "client = openai.Client()"
   ]
  },
  {
   "cell_type": "code",
   "execution_count": null,
   "metadata": {},
   "outputs": [],
   "source": [
    "df = pd.read_csv(\"papers.csv\")\n",
    "df.head()"
   ]
  },
  {
   "cell_type": "code",
   "execution_count": null,
   "metadata": {},
   "outputs": [],
   "source": [
    "def wrap(body, id):\n",
    "    return {\n",
    "        \"custom_id\": id,\n",
    "        \"method\": \"POST\",\n",
    "        \"url\": \"/v1/chat/completions\",\n",
    "        \"body\": body\n",
    "    }\n",
    "    \n",
    "def gen_body(text, top5=True):\n",
    "    return {\n",
    "            \"model\": \"gpt-4o-mini\",\n",
    "            \"messages\":[{\n",
    "                    \"role\": \"system\",\n",
    "                    \"content\": prompts.top5() if top5 else prompts.analysis()\n",
    "                },\n",
    "                {\n",
    "                    \"role\": \"user\",\n",
    "                    \"content\": text\n",
    "                }],\n",
    "            \"response_format\": type_to_response_format_param(prompts.Top5Model if top5 else prompts.AnalysisModel)\n",
    "        }\n"
   ]
  },
  {
   "cell_type": "code",
   "execution_count": null,
   "metadata": {},
   "outputs": [],
   "source": [
    "import numpy as np\n",
    "\n",
    "divider = 5\n",
    "\n",
    "for index, row in df.iterrows():\n",
    "    with open(f'output/{row[\"id\"]}.txt', 'r') as f:\n",
    "        text = f.read()\n",
    "        paper = f\"PAPER TITLE: {row['name']}\\n\\nPAPER TEXT: {text}\"\n",
    "        # [ wrap(gen_body(f\"PAPER TITLE: {row['name']}\\n\\nPAPER TEXT: {text}\"), f\"{row[\"id\"]}_{i}\") for i in range(3) ]\n",
    "        id = [  *[ wrap( gen_body(paper),                f\"{row[\"id\"]}|{i}+top5\") for i in range(3) ],\n",
    "                *[ wrap( gen_body(paper, top5=False),    f\"{row['id']}|{i}+analysis\") for i in range(3) ] ]\n",
    "        \n",
    "        file_index = math.floor(index / (len(df) / divider))\n",
    "        # file_index = 0\n",
    "\n",
    "        with open(f\"input/batch-{file_index}.jsonl\", 'a') as f:\n",
    "            f.write(f\"{\"\\n\".join([json.dumps(i) for i in id])}\\n\")"
   ]
  },
  {
   "cell_type": "code",
   "execution_count": null,
   "metadata": {},
   "outputs": [],
   "source": [
    "batch_input_files = []\n",
    "\n",
    "for i in range(divider):\n",
    "    print(f\"Sending batch {i}\")\n",
    "    batch_input_file = client.files.create(\n",
    "        file=open(f\"input/batch-{i}.jsonl\", \"rb\"),\n",
    "        purpose=\"batch\"\n",
    "    )\n",
    "    print(f\"{i} {batch_input_file.id}\")\n",
    "    batch_input_files.append(batch_input_file)\n",
    "\n",
    "print(batch_input_files)"
   ]
  },
  {
   "cell_type": "code",
   "execution_count": null,
   "metadata": {},
   "outputs": [],
   "source": [
    "# KINDA DANGEROUS\n",
    "# batch_objects = []\n",
    "# for i, b in enumerate(batch_input_files):\n",
    "#     batch_input_file_id = b.id\n",
    "#     batch_object = client.batches.create(\n",
    "#         input_file_id=batch_input_file_id,\n",
    "#         endpoint=\"/v1/chat/completions\",\n",
    "#         completion_window=\"24h\",\n",
    "#         metadata={\n",
    "#             \"description\": f\"[AI REVIEWER] Set {i}\"\n",
    "#         }\n",
    "#     )\n",
    "#     print(f\"{i} {batch_object.id}\")\n",
    "#     batch_objects.append(batch_object)"
   ]
  },
  {
   "cell_type": "code",
   "execution_count": 6,
   "metadata": {},
   "outputs": [],
   "source": [
    "batches = []\n",
    "with open(\"dump/openai-batches.txt\", 'r') as f:\n",
    "    batches = f.read()\n",
    "    batches = batches.split(\"\\n\")"
   ]
  },
  {
   "cell_type": "code",
   "execution_count": 10,
   "metadata": {},
   "outputs": [
    {
     "name": "stdout",
     "output_type": "stream",
     "text": [
      "Batch(id='batch_67debc8d4f788190b1fb3f0654ae9e71', completion_window='24h', created_at=1742650509, endpoint='/v1/chat/completions', input_file_id='file-3JZPEFBedFWR5PTCRF3dBq', object='batch', status='completed', cancelled_at=None, cancelling_at=None, completed_at=1742651652, error_file_id=None, errors=None, expired_at=None, expires_at=1742736909, failed_at=None, finalizing_at=1742651562, in_progress_at=1742650512, metadata={'description': '[AI REVIEWER] Set 0'}, output_file_id='file-MK6mgmciFdGAPbRmbAhR61', request_counts=BatchRequestCounts(completed=1320, failed=0, total=1320))\n",
      "Batch(id='batch_67debc8dad3c819080c0754b3610d6f0', completion_window='24h', created_at=1742650509, endpoint='/v1/chat/completions', input_file_id='file-N3VozYe9vaQFTz92434ZzR', object='batch', status='completed', cancelled_at=None, cancelling_at=None, completed_at=1742651662, error_file_id=None, errors=None, expired_at=None, expires_at=1742736909, failed_at=None, finalizing_at=1742651551, in_progress_at=1742650516, metadata={'description': '[AI REVIEWER] Set 1'}, output_file_id='file-RjUzYiHfmJpZtJbmaMjH5j', request_counts=BatchRequestCounts(completed=1320, failed=0, total=1320))\n",
      "Batch(id='batch_67debc8dfe7c819093e2718ddc9cf709', completion_window='24h', created_at=1742650509, endpoint='/v1/chat/completions', input_file_id='file-2hFdsAsEvYkzzsxCbYi2FF', object='batch', status='in_progress', cancelled_at=None, cancelling_at=None, completed_at=None, error_file_id=None, errors=None, expired_at=None, expires_at=1742736909, failed_at=None, finalizing_at=None, in_progress_at=1742650517, metadata={'description': '[AI REVIEWER] Set 2'}, output_file_id=None, request_counts=BatchRequestCounts(completed=0, failed=0, total=1320))\n",
      "Batch(id='batch_67debc8e635c8190a1b2d38f41d40652', completion_window='24h', created_at=1742650510, endpoint='/v1/chat/completions', input_file_id='file-WGAe34Epr6qgv7qJMizTCW', object='batch', status='completed', cancelled_at=None, cancelling_at=None, completed_at=1742651619, error_file_id=None, errors=None, expired_at=None, expires_at=1742736910, failed_at=None, finalizing_at=1742651529, in_progress_at=1742650512, metadata={'description': '[AI REVIEWER] Set 3'}, output_file_id='file-B5EqjTpoLdbPmJZCjWZzt1', request_counts=BatchRequestCounts(completed=1320, failed=0, total=1320))\n",
      "Batch(id='batch_67debc8eccac8190a807f900e6b18507', completion_window='24h', created_at=1742650510, endpoint='/v1/chat/completions', input_file_id='file-RxEEvh9SNSo25bvAHZaexw', object='batch', status='in_progress', cancelled_at=None, cancelling_at=None, completed_at=None, error_file_id=None, errors=None, expired_at=None, expires_at=1742736910, failed_at=None, finalizing_at=None, in_progress_at=1742650517, metadata={'description': '[AI REVIEWER] Set 4'}, output_file_id=None, request_counts=BatchRequestCounts(completed=0, failed=0, total=1320))\n"
     ]
    }
   ],
   "source": [
    "file_ids = []\n",
    "for i, batch in enumerate(batches):\n",
    "    print(client.batches.retrieve(batch))\n",
    "    # file_ids.append(x.output_file_id)"
   ]
  },
  {
   "cell_type": "code",
   "execution_count": null,
   "metadata": {},
   "outputs": [],
   "source": [
    "file_ids"
   ]
  },
  {
   "cell_type": "code",
   "execution_count": null,
   "metadata": {},
   "outputs": [],
   "source": [
    "for i, id in enumerate(file_ids):\n",
    "    file_response = client.files.content(id)"
   ]
  },
  {
   "cell_type": "code",
   "execution_count": null,
   "metadata": {},
   "outputs": [],
   "source": [
    "import pandas as pd\n",
    "import json\n",
    "\n",
    "df = pd.read_csv(\"papers.csv\")\n",
    "\n",
    "for line in file_response.text.split(\"\\n\")[:-1]:\n",
    "    l = json.loads(line)\n",
    "    id = l['custom_id'].split(\"|\")[0]\n",
    "    no, typ = l['custom_id'].split(\"|\")[1].split(\"+\")\n",
    "    \n",
    "    idx = df.index[df['id'] == id].tolist()[0]\n",
    "    \n",
    "    content = l['response']['body']['choices'][0]['message']['content']\n",
    "    \n",
    "    metrics = ['score'] if typ == \"top5\" else ['originality', 'rigor', 'scope', 'impact', 'written_by_ai']\n",
    "    validateModel = prompts.Top5Model if typ == \"top5\" else prompts.AnalysisModel\n",
    "\n",
    "    for i, metric in enumerate(metrics):\n",
    "        column_name = f\"openai-{metric}-{int(no)+1}\"\n",
    "        \n",
    "        if column_name not in df.columns:\n",
    "            df[column_name] = None\n",
    "\n",
    "        o = validateModel.model_validate_json(content)\n",
    "        df.loc[idx, column_name] = o.__dict__[metric]"
   ]
  },
  {
   "cell_type": "code",
   "execution_count": null,
   "metadata": {},
   "outputs": [],
   "source": [
    "df"
   ]
  },
  {
   "cell_type": "code",
   "execution_count": null,
   "metadata": {},
   "outputs": [],
   "source": [
    "df.to_csv(\"papers_openai.csv\", index=False)"
   ]
  }
 ],
 "metadata": {
  "kernelspec": {
   "display_name": ".venv",
   "language": "python",
   "name": "python3"
  },
  "language_info": {
   "codemirror_mode": {
    "name": "ipython",
    "version": 3
   },
   "file_extension": ".py",
   "mimetype": "text/x-python",
   "name": "python",
   "nbconvert_exporter": "python",
   "pygments_lexer": "ipython3",
   "version": "3.13.1"
  }
 },
 "nbformat": 4,
 "nbformat_minor": 2
}
