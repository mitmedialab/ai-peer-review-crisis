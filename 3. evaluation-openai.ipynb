{
 "cells": [
  {
   "cell_type": "code",
   "execution_count": null,
   "metadata": {},
   "outputs": [],
   "source": [
    "import openai\n",
    "import json\n",
    "import math\n",
    "from openai.lib._parsing._completions import type_to_response_format_param\n",
    "import pandas as pd\n",
    "\n",
    "import functions.prompts as prompts\n",
    "\n",
    "client = openai.Client()"
   ]
  },
  {
   "cell_type": "code",
   "execution_count": null,
   "metadata": {},
   "outputs": [],
   "source": [
    "df = pd.read_csv(\"papers.csv\")\n",
    "df.head()"
   ]
  },
  {
   "cell_type": "code",
   "execution_count": null,
   "metadata": {},
   "outputs": [],
   "source": [
    "def wrap(body, id):\n",
    "    return {\n",
    "        \"custom_id\": id,\n",
    "        \"method\": \"POST\",\n",
    "        \"url\": \"/v1/chat/completions\",\n",
    "        \"body\": body\n",
    "    }\n",
    "    \n",
    "def gen_body(text, top5=True):\n",
    "    return {\n",
    "            \"model\": \"gpt-4o-mini\",\n",
    "            \"messages\":[{\n",
    "                    \"role\": \"system\",\n",
    "                    \"content\": prompts.top5() if top5 else prompts.analysis()\n",
    "                },\n",
    "                {\n",
    "                    \"role\": \"user\",\n",
    "                    \"content\": text\n",
    "                }],\n",
    "            \"response_format\": type_to_response_format_param(prompts.Top5Model if top5 else prompts.AnalysisModel)\n",
    "        }\n"
   ]
  },
  {
   "cell_type": "code",
   "execution_count": null,
   "metadata": {},
   "outputs": [],
   "source": [
    "import numpy as np\n",
    "\n",
    "divider = 1\n",
    "\n",
    "for index, row in df.iterrows():\n",
    "    with open(f'output/{row[\"id\"]}.txt', 'r') as f:\n",
    "        text = f.read()\n",
    "        paper = f\"PAPER TITLE: {row['name']}\\n\\nPAPER TEXT: {text}\"\n",
    "        # paper = text\n",
    "        # [ wrap(gen_body(f\"PAPER TITLE: {row['name']}\\n\\nPAPER TEXT: {text}\"), f\"{row[\"id\"]}_{i}\") for i in range(3) ]\n",
    "        id = [  *[ wrap( gen_body(paper),                f\"{row[\"id\"]}|{i}+top5\") for i in range(3) ],\n",
    "                *[ wrap( gen_body(paper, top5=False),    f\"{row['id']}|{i}+analysis\") for i in range(3) ] ]\n",
    "        \n",
    "        file_index = math.floor(index / (len(df) / divider))\n",
    "        # file_index = 0\n",
    "\n",
    "        with open(f\"dump/openai-batch-jsonl/batch-{file_index}.jsonl\", 'a') as f:\n",
    "            f.write(f\"{\"\\n\".join([json.dumps(i) for i in id])}\\n\")"
   ]
  },
  {
   "cell_type": "code",
   "execution_count": null,
   "metadata": {},
   "outputs": [],
   "source": [
    "batch_input_files = []\n",
    "\n",
    "for i in range(divider):\n",
    "    print(f\"Sending batch {i}\")\n",
    "    batch_input_file = client.files.create(\n",
    "        file=open(f\"dump/openai-batch/batch-{i}.jsonl\", \"rb\"),\n",
    "        purpose=\"batch\"\n",
    "    )\n",
    "    print(f\"{i} {batch_input_file.id}\")\n",
    "    batch_input_files.append(batch_input_file)\n",
    "\n",
    "print(batch_input_files)"
   ]
  },
  {
   "cell_type": "code",
   "execution_count": null,
   "metadata": {},
   "outputs": [],
   "source": [
    "# KINDA DANGEROUS\n",
    "batch_objects = []\n",
    "for i, b in enumerate(batch_input_files):\n",
    "    batch_input_file_id = b.id\n",
    "    batch_object = client.batches.create(\n",
    "        input_file_id=batch_input_file_id,\n",
    "        endpoint=\"/v1/chat/completions\",\n",
    "        completion_window=\"24h\",\n",
    "        metadata={\n",
    "            \"description\": f\"[AI REVIEWER] Set {i}\"\n",
    "        }\n",
    "    )\n",
    "    print(f\"{i} {batch_object.id}\")\n",
    "    batch_objects.append(batch_object)"
   ]
  },
  {
   "cell_type": "code",
   "execution_count": null,
   "metadata": {},
   "outputs": [],
   "source": [
    "with open(\"dump/openai-batch/openai-batches.txt\", 'w') as f:\n",
    "    f.write(\"\\n\".join([i.id for i in batch_objects]))"
   ]
  },
  {
   "cell_type": "code",
   "execution_count": null,
   "metadata": {},
   "outputs": [],
   "source": [
    "batches = []\n",
    "with open(\"dump/openai-batch/openai-batches.txt\", 'r') as f:\n",
    "    batches = f.read()\n",
    "    batches = batches.split(\"\\n\")"
   ]
  },
  {
   "cell_type": "code",
   "execution_count": null,
   "metadata": {},
   "outputs": [],
   "source": [
    "file_ids = []\n",
    "for i, batch in enumerate(batches):\n",
    "    x = client.batches.retrieve(batch)\n",
    "    print(x)\n",
    "    file_ids.append(x.output_file_id)"
   ]
  },
  {
   "cell_type": "code",
   "execution_count": null,
   "metadata": {},
   "outputs": [],
   "source": [
    "file_ids"
   ]
  },
  {
   "cell_type": "code",
   "execution_count": null,
   "metadata": {},
   "outputs": [],
   "source": [
    "for i, id in enumerate(file_ids):\n",
    "    file_response = client.files.content(id)\n",
    "    with open(f\"dump/eval-output/openai-output.jsonl\", 'a') as f:\n",
    "        f.write(file_response.text)"
   ]
  },
  {
   "cell_type": "code",
   "execution_count": null,
   "metadata": {},
   "outputs": [],
   "source": [
    "import pandas as pd\n",
    "import json\n",
    "\n",
    "df = pd.read_csv(\"papers.csv\")\n",
    "\n",
    "f = open(\"dump/eval-output/openai-output.jsonl\", \"r\")\n",
    "file_response = f.read()\n",
    "f.close()\n",
    "\n",
    "for line in file_response.split(\"\\n\")[:-1]:\n",
    "    l = json.loads(line)\n",
    "    id = l['custom_id'].split(\"|\")[0]\n",
    "    no, typ = l['custom_id'].split(\"|\")[1].split(\"+\")\n",
    "    \n",
    "    idx = df.index[df['id'] == id].tolist()[0]\n",
    "    \n",
    "    content = l['response']['body']['choices'][0]['message']['content']\n",
    "    \n",
    "    metrics = ['score'] if typ == \"top5\" else ['originality', 'rigor', 'scope', 'impact', 'written_by_ai']\n",
    "    validateModel = prompts.Top5Model if typ == \"top5\" else prompts.AnalysisModel\n",
    "\n",
    "    for i, metric in enumerate(metrics):\n",
    "        column_name = f\"openai-{metric}-{int(no)+1}\"\n",
    "        \n",
    "        if column_name not in df.columns:\n",
    "            df[column_name] = None\n",
    "\n",
    "        o = validateModel.model_validate_json(content)\n",
    "        df.loc[idx, column_name] = o.__dict__[metric]"
   ]
  },
  {
   "cell_type": "code",
   "execution_count": null,
   "metadata": {},
   "outputs": [],
   "source": [
    "df"
   ]
  },
  {
   "cell_type": "code",
   "execution_count": null,
   "metadata": {},
   "outputs": [],
   "source": [
    "df.to_csv(\"result_o.csv\", index=False)"
   ]
  }
 ],
 "metadata": {
  "kernelspec": {
   "display_name": ".venv",
   "language": "python",
   "name": "python3"
  },
  "language_info": {
   "codemirror_mode": {
    "name": "ipython",
    "version": 3
   },
   "file_extension": ".py",
   "mimetype": "text/x-python",
   "name": "python",
   "nbconvert_exporter": "python",
   "pygments_lexer": "ipython3",
   "version": "3.13.1"
  }
 },
 "nbformat": 4,
 "nbformat_minor": 2
}
