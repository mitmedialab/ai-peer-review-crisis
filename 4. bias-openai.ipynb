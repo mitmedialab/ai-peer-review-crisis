{
 "cells": [
  {
   "cell_type": "code",
   "execution_count": 4,
   "metadata": {},
   "outputs": [],
   "source": [
    "import openai\n",
    "import json\n",
    "import math\n",
    "from openai.lib._parsing._completions import type_to_response_format_param\n",
    "import pandas as pd\n",
    "\n",
    "import functions.prompts as prompts\n",
    "\n",
    "client = openai.Client()"
   ]
  },
  {
   "cell_type": "code",
   "execution_count": 34,
   "metadata": {},
   "outputs": [],
   "source": [
    "df = pd.read_csv(\"dump/csv/papers.csv\")\n",
    "df['rank'] = df['id'].apply(lambda x: x.split(\"_\")[0])\n",
    "df = df.loc[df['rank'].isin([\"1\", \"50\", \"100\"])].reset_index(drop=True)"
   ]
  },
  {
   "cell_type": "code",
   "execution_count": 5,
   "metadata": {},
   "outputs": [],
   "source": [
    "def wrap(body, id):\n",
    "    return {\n",
    "        \"custom_id\": id,\n",
    "        \"method\": \"POST\",\n",
    "        \"url\": \"/v1/chat/completions\",\n",
    "        \"body\": body\n",
    "    }\n",
    "    \n",
    "def gen_body(text, top5=True):\n",
    "    return {\n",
    "            \"model\": \"gpt-4o-mini\",\n",
    "            \"messages\":[{\n",
    "                    \"role\": \"system\",\n",
    "                    \"content\": prompts.top5() if top5 else prompts.analysis()\n",
    "                },\n",
    "                {\n",
    "                    \"role\": \"user\",\n",
    "                    \"content\": text\n",
    "                }],\n",
    "            \"response_format\": type_to_response_format_param(prompts.Top5Model if top5 else prompts.AnalysisModel)\n",
    "        }\n"
   ]
  },
  {
   "cell_type": "code",
   "execution_count": 6,
   "metadata": {},
   "outputs": [],
   "source": [
    "institutions = [\n",
    "       \"Massachusetts Institute of Technology;\",\n",
    "       \"Harvard University;\",\n",
    "       \"University of Warwick;\",\n",
    "       \"London School of Economics and Political Science;\",\n",
    "       \"University of Tokyo;\",\n",
    "       \"University of Cape Town;\",\n",
    "       \"Nanyang Technological University;\",\n",
    "       \"Chulalongkorn University;\",\n",
    "       \"Universiti Malaya;\",\n",
    "   ]\n",
    "\n",
    "top_names = [\n",
    "       \"Andrei Shleifer\", \"Daron Acemoglu\", \"James J. Heckman\",\n",
    "       \"Joseph E. Stiglitz\", \"John List\", \"Carmen M. Reinhart\",\n",
    "       \"Janet Currie\", \"Esther Duflo\", \"Asli Demirguc-Kunt\",\n",
    "       \"Marianne Bertrand\"\n",
    "]\n",
    "\n",
    "\n",
    "bottom_names = [\n",
    "       \"Harold Huibing Zhang\", \"Lin Zhou\", \"Andrei Zlate\",\n",
    "       \"Ulf Zoelitz\", \"Asaf Zussman\", \"Lu Yang\",\n",
    "       \"Anzelika Zaiceva\", \"Aleksandra Zdzienicka\",\n",
    "       \"Qiankun Zhou\", \"Vera Zipperer\"\n",
    "]\n",
    "\n",
    "\n",
    "random_names = [\n",
    "       \"Bruce S. Green\", \"Alejandro L. James\", \"Billie J. Abels\",\n",
    "       \"Paul A. Jenkins\", \"Gary L. Bodie\", \"Gail J. Doan\",\n",
    "       \"Shirley S. Hodgkins\", \"Pattie K. Reinhardt\",\n",
    "       \"Tara R. Weber\", \"Tabitha J. Cox\"\n",
    "]"
   ]
  },
  {
   "cell_type": "code",
   "execution_count": 15,
   "metadata": {},
   "outputs": [],
   "source": [
    "import numpy as np\n",
    "\n",
    "divider = 5\n",
    "t_name = [\"top\", \"bot\", \"ran\"]\n",
    "\n",
    "for index, row in df.iterrows():\n",
    "    with open(f'output/{row[\"id\"]}.txt', 'r') as f:\n",
    "        text = f.read()\n",
    "        \n",
    "        for ind, ins in enumerate(institutions):\n",
    "        # paper = text\n",
    "        # [ wrap(gen_body(f\"PAPER TITLE: {row['name']}\\n\\nPAPER TEXT: {text}\"), f\"{row[\"id\"]}_{i}\") for i in range(3) ]\n",
    "            paper = f\"PAPER TITLE: {row['name']}\\n\\nAFFILIATION: {ins}\\n\\nPAPER TEXT: {text}\"\n",
    "            id = [  *[ wrap( gen_body(paper),                f\"{row[\"id\"]}Qins{ind}|{i}+top5\") for i in range(3) ],\n",
    "                    *[ wrap( gen_body(paper, top5=False),    f\"{row['id']}Qins{ind}|{i}+analysis\") for i in range(3) ] ]\n",
    "\n",
    "            file_index = math.floor(index / (len(df) / divider))\n",
    "            # file_index = 0\n",
    "\n",
    "            with open(f\"dump/openai-batch/batch-{file_index}-bias.jsonl\", 'a') as f:\n",
    "                f.write(f\"{\"\\n\".join([json.dumps(i) for i in id])}\\n\")\n",
    "                \n",
    "        for ind, names in enumerate([top_names, bottom_names, random_names]):\n",
    "            for ind2, name in enumerate(names):\n",
    "                # paper = text\n",
    "                # [ wrap(gen_body(f\"PAPER TITLE: {row['name']}\\n\\nPAPER TEXT: {text}\"), f\"{row[\"id\"]}_{i}\") for i in range(3) ]\n",
    "                paper = f\"PAPER TITLE: {row['name']}\\n\\nAUTHOR: {name}\\n\\nPAPER TEXT: {text}\"\n",
    "                id = [  *[ wrap( gen_body(paper),                f\"{row[\"id\"]}Q{t_name[ind]}{ind2}|{i}+top5\") for i in range(3) ],\n",
    "                        *[ wrap( gen_body(paper, top5=False),    f\"{row['id']}Q{t_name[ind]}{ind2}|{i}+analysis\") for i in range(3) ] ]\n",
    "\n",
    "                file_index = math.floor(index / (len(df) / divider))\n",
    "                # file_index = 0\n",
    "\n",
    "                with open(f\"dump/openai-batch/batch-{file_index}-bias.jsonl\", 'a') as f:\n",
    "                    f.write(f\"{\"\\n\".join([json.dumps(i) for i in id])}\\n\")"
   ]
  },
  {
   "cell_type": "code",
   "execution_count": null,
   "metadata": {},
   "outputs": [],
   "source": [
    "batch_input_files = []\n",
    "\n",
    "for i in range(divider):\n",
    "    print(f\"Sending batch {i}\")\n",
    "    batch_input_file = client.files.create(\n",
    "        file=open(f\"dump/openai-batch/batch-{i}-bias.jsonl\", \"rb\"),\n",
    "        purpose=\"batch\"\n",
    "    )\n",
    "    print(f\"{i} {batch_input_file.id}\")\n",
    "    batch_input_files.append(batch_input_file)\n",
    "\n",
    "print(batch_input_files)"
   ]
  },
  {
   "cell_type": "code",
   "execution_count": null,
   "metadata": {},
   "outputs": [
    {
     "name": "stdout",
     "output_type": "stream",
     "text": [
      "0 batch_67e3d7b805488190ae75e6cfd5e4e26d\n",
      "1 batch_67e3d7b9e21481909e29f6d06d1d7071\n",
      "2 batch_67e3d7ba596481908d0a0bec7fb8236e\n",
      "3 batch_67e3d7bac2588190b746c158afa36055\n",
      "4 batch_67e3d7bb21048190a182517317d05338\n"
     ]
    }
   ],
   "source": [
    "# # KINDA DANGEROUS\n",
    "# batch_objects = []\n",
    "# for i, b in enumerate(batch_input_files):\n",
    "#     batch_input_file_id = b.id\n",
    "#     batch_object = client.batches.create(\n",
    "#         input_file_id=batch_input_file_id,\n",
    "#         endpoint=\"/v1/chat/completions\",\n",
    "#         completion_window=\"24h\",\n",
    "#         metadata={\n",
    "#             \"description\": f\"[AI REVIEWER] Set {i}\"\n",
    "#         }\n",
    "#     )\n",
    "#     print(f\"{i} {batch_object.id}\")\n",
    "#     batch_objects.append(batch_object)"
   ]
  },
  {
   "cell_type": "code",
   "execution_count": 2,
   "metadata": {},
   "outputs": [],
   "source": [
    "batches = []\n",
    "with open(\"dump/openai-batch/openai-batches-bias.txt\", 'r') as f:\n",
    "    batches = f.read()\n",
    "    batches = batches.split(\"\\n\")"
   ]
  },
  {
   "cell_type": "code",
   "execution_count": 30,
   "metadata": {},
   "outputs": [
    {
     "name": "stdout",
     "output_type": "stream",
     "text": [
      "Batch(id='batch_67e3d7b805488190ae75e6cfd5e4e26d', completion_window='24h', created_at=1742985144, endpoint='/v1/chat/completions', input_file_id='file-2YGzV1UEC9BECvtJ7Ffdfo', object='batch', status='completed', cancelled_at=None, cancelling_at=None, completed_at=1742985769, error_file_id=None, errors=None, expired_at=None, expires_at=1743071544, failed_at=None, finalizing_at=1742985684, in_progress_at=1742985147, metadata={'description': '[AI REVIEWER] Set 0'}, output_file_id='file-Df1U3qu8XSBzD7TxrZnXQQ', request_counts=BatchRequestCounts(completed=1404, failed=0, total=1404))\n",
      "Batch(id='batch_67e3d7b9e21481909e29f6d06d1d7071', completion_window='24h', created_at=1742985145, endpoint='/v1/chat/completions', input_file_id='file-Q6uehFifeRCk3v3kFT7q9X', object='batch', status='completed', cancelled_at=None, cancelling_at=None, completed_at=1742985525, error_file_id=None, errors=None, expired_at=None, expires_at=1743071545, failed_at=None, finalizing_at=1742985437, in_progress_at=1742985149, metadata={'description': '[AI REVIEWER] Set 1'}, output_file_id='file-Daa42L59Bk2yrQmPHWNNPb', request_counts=BatchRequestCounts(completed=1404, failed=0, total=1404))\n",
      "Batch(id='batch_67e3d7ba596481908d0a0bec7fb8236e', completion_window='24h', created_at=1742985146, endpoint='/v1/chat/completions', input_file_id='file-LZuHtfbg8bVaJJzbZyN7KS', object='batch', status='completed', cancelled_at=None, cancelling_at=None, completed_at=1742992374, error_file_id=None, errors=None, expired_at=None, expires_at=1743071546, failed_at=None, finalizing_at=1742992188, in_progress_at=1742985153, metadata={'description': '[AI REVIEWER] Set 2'}, output_file_id='file-XbJjMx7Z8Qr6YrxcVoC35x', request_counts=BatchRequestCounts(completed=1404, failed=0, total=1404))\n",
      "Batch(id='batch_67e3d7bac2588190b746c158afa36055', completion_window='24h', created_at=1742985146, endpoint='/v1/chat/completions', input_file_id='file-2ytFWz9QQFKXi2rGCjbKpD', object='batch', status='completed', cancelled_at=None, cancelling_at=None, completed_at=1742985586, error_file_id=None, errors=None, expired_at=None, expires_at=1743071546, failed_at=None, finalizing_at=1742985500, in_progress_at=1742985149, metadata={'description': '[AI REVIEWER] Set 3'}, output_file_id='file-UvQrm9oUWizbCUVwgmNhDF', request_counts=BatchRequestCounts(completed=1404, failed=0, total=1404))\n",
      "Batch(id='batch_67e3d7bb21048190a182517317d05338', completion_window='24h', created_at=1742985147, endpoint='/v1/chat/completions', input_file_id='file-33DykGpcv6jpYEPUKHro1o', object='batch', status='completed', cancelled_at=None, cancelling_at=None, completed_at=1742985859, error_file_id=None, errors=None, expired_at=None, expires_at=1743071547, failed_at=None, finalizing_at=1742985747, in_progress_at=1742985151, metadata={'description': '[AI REVIEWER] Set 4'}, output_file_id='file-WJDBmBqmDeHHWcG7fwVjX2', request_counts=BatchRequestCounts(completed=1404, failed=0, total=1404))\n"
     ]
    }
   ],
   "source": [
    "file_ids = []\n",
    "for i, batch in enumerate(batches):\n",
    "    x = client.batches.retrieve(batch)\n",
    "    print(x)\n",
    "    file_ids.append(x.output_file_id)"
   ]
  },
  {
   "cell_type": "code",
   "execution_count": 31,
   "metadata": {},
   "outputs": [
    {
     "data": {
      "text/plain": [
       "['file-Df1U3qu8XSBzD7TxrZnXQQ',\n",
       " 'file-Daa42L59Bk2yrQmPHWNNPb',\n",
       " 'file-XbJjMx7Z8Qr6YrxcVoC35x',\n",
       " 'file-UvQrm9oUWizbCUVwgmNhDF',\n",
       " 'file-WJDBmBqmDeHHWcG7fwVjX2']"
      ]
     },
     "execution_count": 31,
     "metadata": {},
     "output_type": "execute_result"
    }
   ],
   "source": [
    "file_ids"
   ]
  },
  {
   "cell_type": "code",
   "execution_count": 32,
   "metadata": {},
   "outputs": [],
   "source": [
    "for i, id in enumerate(file_ids):\n",
    "    file_response = client.files.content(id)\n",
    "    with open(f\"dump/eval-output/openai-output-bias.jsonl\", 'a') as f:\n",
    "        f.write(file_response.text)"
   ]
  },
  {
   "cell_type": "code",
   "execution_count": null,
   "metadata": {},
   "outputs": [],
   "source": [
    "import pandas as pd\n",
    "import json\n",
    "\n",
    "# df = pd.read_csv(\"dump/csv/papers.csv\")\n",
    "\n",
    "f = open(\"dump/eval-output/openai-output-bias.jsonl\", \"r\")\n",
    "file_response = f.read()\n",
    "f.close()\n",
    "\n",
    "for line in file_response.split(\"\\n\")[:-1]:\n",
    "    l = json.loads(line)\n",
    "    id, bias = l['custom_id'].split(\"|\")[0].split(\"Q\")\n",
    "    no, typ = l['custom_id'].split(\"|\")[1].split(\"+\")\n",
    "    \n",
    "    idx = df.index[df['id'] == id].tolist()[0]\n",
    "    \n",
    "    content = l['response']['body']['choices'][0]['message']['content']\n",
    "    \n",
    "    metrics = ['score'] if typ == \"top5\" else ['originality', 'rigor', 'scope', 'impact', 'written_by_ai']\n",
    "    validateModel = prompts.Top5Model if typ == \"top5\" else prompts.AnalysisModel\n",
    "\n",
    "    for i, metric in enumerate(metrics):\n",
    "        column_name = f\"openai-{bias}-{metric}-{int(no)+1}\"\n",
    "        \n",
    "        if column_name not in df.columns:\n",
    "            df[column_name] = None\n",
    "\n",
    "        o = validateModel.model_validate_json(content)\n",
    "        df.loc[idx, column_name] = o.__dict__[metric]"
   ]
  },
  {
   "cell_type": "code",
   "execution_count": null,
   "metadata": {},
   "outputs": [],
   "source": [
    "df"
   ]
  },
  {
   "cell_type": "code",
   "execution_count": 42,
   "metadata": {},
   "outputs": [],
   "source": [
    "df.to_csv(\"dump/csv/bias_o.csv\", index=False)"
   ]
  }
 ],
 "metadata": {
  "kernelspec": {
   "display_name": ".venv",
   "language": "python",
   "name": "python3"
  },
  "language_info": {
   "codemirror_mode": {
    "name": "ipython",
    "version": 3
   },
   "file_extension": ".py",
   "mimetype": "text/x-python",
   "name": "python",
   "nbconvert_exporter": "python",
   "pygments_lexer": "ipython3",
   "version": "3.13.1"
  }
 },
 "nbformat": 4,
 "nbformat_minor": 2
}
