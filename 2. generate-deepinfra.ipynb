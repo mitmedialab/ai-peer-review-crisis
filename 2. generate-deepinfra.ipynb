{
 "cells": [
  {
   "cell_type": "code",
   "execution_count": 1,
   "metadata": {},
   "outputs": [],
   "source": [
    "from openai import OpenAI\n",
    "from dotenv import dotenv_values\n",
    "import json\n",
    "import math\n",
    "import numpy as np\n",
    "import pandas as pd\n",
    "from concurrent.futures import ThreadPoolExecutor\n",
    "\n",
    "import functions.prompts as prompts\n",
    "\n",
    "config = dotenv_values(\".env\")\n",
    "\n",
    "client = OpenAI(\n",
    "    api_key=config['DEEPINFRA_TOKEN'],\n",
    "    base_url=\"https://api.deepinfra.com/v1/openai\",\n",
    ")"
   ]
  },
  {
   "cell_type": "code",
   "execution_count": 2,
   "metadata": {},
   "outputs": [],
   "source": [
    "def gen_body(text, model):\n",
    "    return {\n",
    "            \"model\": model,\n",
    "            \"messages\":[\n",
    "                {\n",
    "                    \"role\": \"user\",\n",
    "                    \"content\": f\"Generate {text} paper that could be published in a top-5 economics journal. Start the output with paper title without any pretext\"\n",
    "                }],\n",
    "            \"max_completion_tokens\": 64000\n",
    "        }"
   ]
  },
  {
   "cell_type": "code",
   "execution_count": null,
   "metadata": {},
   "outputs": [],
   "source": [
    "model = \"google/gemma-3-27b-it\"\n",
    "model_name = \"gemma\"\n",
    "\n",
    "fields = ['a finance', 'a macroeconomics', 'a microeconimics', 'an applied microeconomics']\n",
    "reqs = [[ {\n",
    "        \"id\": f'{field.split(\" \")[1][:3]}_{i}',\n",
    "        \"body\": gen_body(field, model=model)\n",
    "    } for i in range(5) ] for field in fields]\n",
    "\n",
    "reqs = [ x for xs in reqs for x in xs ]\n",
    "\n",
    "def gen_paper(client, req):\n",
    "    print(f\"Generating: {req['id']}\")\n",
    "\n",
    "    paper = client.chat.completions.create(**req['body'])\n",
    "    text = paper.choices[0].message.content\n",
    "    \n",
    "    with open(f\"./fake-papers/{model_name}-{req['id']}.txt\", \"w\") as f:\n",
    "        f.write(text)"
   ]
  },
  {
   "cell_type": "code",
   "execution_count": 4,
   "metadata": {},
   "outputs": [
    {
     "name": "stdout",
     "output_type": "stream",
     "text": [
      "Generating: fin_0\n",
      "Generating: fin_1\n",
      "Generating: fin_2\n",
      "Generating: fin_3\n",
      "Generating: fin_4\n",
      "Generating: mac_0\n",
      "Generating: mac_1\n",
      "Generating: mac_2\n",
      "Generating: mac_3\n",
      "Generating: mac_4\n",
      "Generating: mic_0\n",
      "Generating: mic_1\n",
      "Generating: mic_2\n",
      "Generating: mic_3\n",
      "Generating: mic_4\n",
      "Generating: app_0\n",
      "Generating: app_1\n",
      "Generating: app_2\n",
      "Generating: app_3\n",
      "Generating: app_4\n"
     ]
    }
   ],
   "source": [
    "with ThreadPoolExecutor(max_workers=200) as executor:\n",
    "    results = list(executor.map(\n",
    "        gen_paper, \n",
    "        [client] * len(reqs),\n",
    "        reqs,\n",
    "    ))"
   ]
  }
 ],
 "metadata": {
  "kernelspec": {
   "display_name": ".venv",
   "language": "python",
   "name": "python3"
  },
  "language_info": {
   "codemirror_mode": {
    "name": "ipython",
    "version": 3
   },
   "file_extension": ".py",
   "mimetype": "text/x-python",
   "name": "python",
   "nbconvert_exporter": "python",
   "pygments_lexer": "ipython3",
   "version": "3.13.1"
  }
 },
 "nbformat": 4,
 "nbformat_minor": 2
}
