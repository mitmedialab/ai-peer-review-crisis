{
 "cells": [
  {
   "cell_type": "code",
   "execution_count": null,
   "metadata": {},
   "outputs": [],
   "source": [
    "import openai\n",
    "import pandas as pd\n",
    "\n",
    "import functions.prompts as prompts\n",
    "import functions.dupes as dupes\n",
    "import functions.llm as llm\n",
    "import functions.anonymize as anonymize\n",
    "import functions.process as process\n",
    "import importlib\n",
    "\n",
    "importlib.reload(prompts)\n",
    "importlib.reload(dupes)\n",
    "importlib.reload(llm)\n",
    "importlib.reload(anonymize)\n",
    "importlib.reload(process)\n",
    "\n",
    "client = openai.Client()"
   ]
  },
  {
   "cell_type": "code",
   "execution_count": null,
   "metadata": {},
   "outputs": [],
   "source": [
    "def anonymize_paper(path, client, id, df, danger_dupe=False):\n",
    "    try:\n",
    "        print(f\"Processing {path}\")\n",
    "\n",
    "        texts = process.extract_texts_from_pdf(path)\n",
    "        metadata = process.get_paper_metadata(client, \"\\n\".join(texts))\n",
    "        print(f\"- {path} | Metadata: {metadata}\")\n",
    "\n",
    "        flagged_dupes = dupes.get_flagged_duplicates(texts, metadata, client) \\\n",
    "            if not danger_dupe \\\n",
    "            else dupes.get_flagged_duplicates_danger(texts, metadata, client)\n",
    "        formatted_texts = process.remove_segments_from_texts(texts, flagged_dupes)\n",
    "\n",
    "        print(f\"- {path} | Anonymizing Paper\")\n",
    "        anond = anonymize.anonymized_texts(formatted_texts, metadata, client, path)\n",
    "\n",
    "        print(f\"- {path} | Done Processing!\")\n",
    "            \n",
    "        result = {\n",
    "            \"metadata\": prompts.MetadataModel.model_validate_json(metadata),\n",
    "            \"original\": texts,\n",
    "            \"anond\": process.remove_page_numbers(anond),\n",
    "            \"id\": id\n",
    "        }\n",
    "        \n",
    "        idx = df.index[df['id'] == id].tolist()[0]\n",
    "\n",
    "        updated_row = df.loc[idx].copy()\n",
    "\n",
    "        updated_row['name'] = result[\"metadata\"].title\n",
    "        updated_row['authors'] = result[\"metadata\"].authors\n",
    "        updated_row['affiliations'] = result[\"metadata\"].affiliations\n",
    "        updated_row['len-original'] = len(\" \".join(result[\"original\"]).split())\n",
    "        updated_row['len-anond'] = len(\" \".join(result[\"anond\"]).split())\n",
    "\n",
    "        df.loc[idx] = updated_row\n",
    "\n",
    "        with open(f'./output/{result[\"id\"]}.txt', 'w') as f:\n",
    "            f.write(\"\\n\".join(result[\"anond\"]))\n",
    "\n",
    "        with open(f'./output/{result[\"id\"]}-original.txt', 'w') as f:\n",
    "            f.write(\"\\n\".join(result[\"original\"]))\n",
    "\n",
    "        return result\n",
    "\n",
    "    except Exception as e:\n",
    "        print(f\"- {path} | ERROR: {e}\")\n",
    "        return None"
   ]
  },
  {
   "cell_type": "code",
   "execution_count": null,
   "metadata": {},
   "outputs": [],
   "source": [
    "df = pd.read_csv(\"papers-temp.csv\")"
   ]
  },
  {
   "cell_type": "code",
   "execution_count": null,
   "metadata": {},
   "outputs": [],
   "source": [
    "replacements = {\n",
    "    # \"56\": \"2|s11127-025-01270-9\",\n",
    "    # \"76\": \"0|ejaf002\",\n",
    "    # \"98\": \"9|economic-evaluation-under-ambiguity-and-structural-uncertainties\",\n",
    "    # \"100\": \"4|s11156-024-01381-2\",\n",
    "    # \"P4\": \"5|socsci-14-00189\",\n",
    "    # \"P7\": \"7|commodities-03-00024-v2\",\n",
    "    \"P7_2\": \"0|commodities-04-00003\",\n",
    "}"
   ]
  },
  {
   "cell_type": "code",
   "execution_count": null,
   "metadata": {},
   "outputs": [],
   "source": [
    "# df[df['id'].isin(['56_2', '76_0', '98_9', '100_4', 'P4_5', 'P7_0', 'P7_7'])]"
   ]
  },
  {
   "cell_type": "code",
   "execution_count": null,
   "metadata": {},
   "outputs": [],
   "source": [
    "for k, v in replacements.items():\n",
    "    k = k.split(\"_\")[0]\n",
    "    f, t = v.split(\"|\")\n",
    "    id = f'{k}_{f}'\n",
    "\n",
    "    idx = df.index[df['id'] == id].tolist()[0]\n",
    "    old = df.iloc[idx]\n",
    "    \n",
    "    updated_row = old.copy()\n",
    "    updated_row['file'] = f\"{k}. {old['journal']}/{t}.pdf\"\n",
    "    \n",
    "    df.loc[idx] = updated_row\n",
    "    \n",
    "    anonymize_paper(\"./Journals/\" + df[df['id'] == id].iloc[0]['file'], client, id, df)"
   ]
  },
  {
   "cell_type": "code",
   "execution_count": null,
   "metadata": {},
   "outputs": [],
   "source": [
    "# df[df['id'].isin(['56_2', '76_0', '98_9', '100_4', 'P4_5', 'P7_0', 'P7_7'])]"
   ]
  },
  {
   "cell_type": "code",
   "execution_count": null,
   "metadata": {},
   "outputs": [],
   "source": [
    "df.to_csv('paper.csv', index=False)"
   ]
  }
 ],
 "metadata": {
  "kernelspec": {
   "display_name": ".venv",
   "language": "python",
   "name": "python3"
  },
  "language_info": {
   "codemirror_mode": {
    "name": "ipython",
    "version": 3
   },
   "file_extension": ".py",
   "mimetype": "text/x-python",
   "name": "python",
   "nbconvert_exporter": "python",
   "pygments_lexer": "ipython3",
   "version": "3.13.1"
  }
 },
 "nbformat": 4,
 "nbformat_minor": 2
}
