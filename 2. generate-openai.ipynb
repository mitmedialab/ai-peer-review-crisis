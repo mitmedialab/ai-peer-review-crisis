{
 "cells": [
  {
   "cell_type": "code",
   "execution_count": null,
   "metadata": {},
   "outputs": [],
   "source": [
    "import openai\n",
    "import json\n",
    "import math\n",
    "from openai.lib._parsing._completions import type_to_response_format_param\n",
    "import pandas as pd\n",
    "\n",
    "import functions.prompts as prompts\n",
    "\n",
    "client = openai.Client()"
   ]
  },
  {
   "cell_type": "code",
   "execution_count": null,
   "metadata": {},
   "outputs": [],
   "source": [
    "model = \"gpt-4o\" # \"o1-2024-12-17\"\n",
    "\n",
    "def wrap(id, body):\n",
    "    return {\n",
    "        \"custom_id\": id,\n",
    "        \"method\": \"POST\",\n",
    "        \"url\": \"/v1/chat/completions\",\n",
    "        \"body\": body,\n",
    "    }\n",
    "    \n",
    "def gen_body(text):\n",
    "    return {\n",
    "            \"model\": model,\n",
    "            \"messages\":[{\n",
    "                \"role\": \"user\",\n",
    "                \"content\": f\"Generate {text} paper that could be published in a top-5 economics journal.\"\n",
    "            }],\n",
    "            \"max_completion_tokens\": 64000 if model == \"o1\" else 16384\n",
    "        }"
   ]
  },
  {
   "cell_type": "code",
   "execution_count": null,
   "metadata": {},
   "outputs": [],
   "source": [
    "def batch():\n",
    "    fields = ['a finance', 'a macroeconomics', 'a microeconimics', 'an applied microeconomics']\n",
    "    reqs =  [\n",
    "        [ wrap(f\"{field.split(\" \")[1][:3]}_{i}\", gen_body(field)) for i in range(5) ]\n",
    "        for field in fields\n",
    "    ]\n",
    "    return [ x for xs in reqs for x in xs ]\n",
    "\n",
    "with open(f\"dump/input/fake_papers-{model}.jsonl\", 'a') as f:\n",
    "    f.write(f\"{\"\\n\".join([json.dumps(i) for i in batch()])}\\n\")"
   ]
  },
  {
   "cell_type": "code",
   "execution_count": null,
   "metadata": {},
   "outputs": [],
   "source": [
    "batch_input_file = client.files.create(\n",
    "    file=open(f\"dump/input/fake_papers-{model}.jsonl\", \"rb\"),\n",
    "    purpose=\"batch\"\n",
    ")\n",
    "print(f\"id: {batch_input_file.id}\")"
   ]
  },
  {
   "cell_type": "code",
   "execution_count": null,
   "metadata": {},
   "outputs": [],
   "source": [
    "batch_input_file_id = batch_input_file.id\n",
    "batch_object = client.batches.create(\n",
    "    input_file_id=batch_input_file_id,\n",
    "    endpoint=\"/v1/chat/completions\",\n",
    "    completion_window=\"24h\",\n",
    "    metadata={\n",
    "        \"description\": f\"[AI PAPER]\"\n",
    "    }\n",
    ")\n",
    "print(f\"id: {batch_object.id}\")"
   ]
  },
  {
   "cell_type": "code",
   "execution_count": null,
   "metadata": {},
   "outputs": [],
   "source": [
    "r = client.batches.retrieve(batch_object.id)"
   ]
  },
  {
   "cell_type": "code",
   "execution_count": null,
   "metadata": {},
   "outputs": [],
   "source": [
    "with open(\"fake_papers-4o.jsonl\", \"w\") as f:\n",
    "    f.write(client.files.content(r.output_file_id).text)"
   ]
  },
  {
   "cell_type": "code",
   "execution_count": null,
   "metadata": {},
   "outputs": [],
   "source": [
    "for line in client.files.content(r.output_file_id).text.split(\"\\n\")[:-1]:\n",
    "    l = json.loads(line)\n",
    "    with open(f'./fake-papers/4o-{l[\"custom_id\"]}.txt', 'w') as f:\n",
    "        f.write(l[\"response\"][\"body\"][\"choices\"][0][\"message\"][\"content\"])"
   ]
  }
 ],
 "metadata": {
  "kernelspec": {
   "display_name": ".venv",
   "language": "python",
   "name": "python3"
  },
  "language_info": {
   "codemirror_mode": {
    "name": "ipython",
    "version": 3
   },
   "file_extension": ".py",
   "mimetype": "text/x-python",
   "name": "python",
   "nbconvert_exporter": "python",
   "pygments_lexer": "ipython3",
   "version": "3.13.1"
  }
 },
 "nbformat": 4,
 "nbformat_minor": 2
}
